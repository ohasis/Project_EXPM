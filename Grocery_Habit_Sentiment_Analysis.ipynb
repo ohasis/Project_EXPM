{
 "cells": [
  {
   "cell_type": "markdown",
   "id": "81a80145",
   "metadata": {},
   "source": [
    "# Grocery Habit Analysis - Sentiment Analysis"
   ]
  },
  {
   "cell_type": "code",
   "execution_count": null,
   "id": "45a29e18",
   "metadata": {},
   "outputs": [],
   "source": [
    "# Import for data manipulation\n",
    "import pandas as pd \n",
    "import sklearn as sk\n",
    "import numpy as np\n",
    "import seaborn as sns\n",
    "import matplotlib.pyplot as plt\n",
    "import statsmodels.api as sm\n",
    "import ast\n",
    "\n",
    "from scipy.stats import f_oneway\n",
    "\n",
    "# Import re for regular expression\n",
    "import re\n",
    "\n",
    "# scikit-learn imports\n",
    "from sklearn.feature_extraction.text import CountVectorizer, TfidfVectorizer\n",
    "from sklearn.impute import SimpleImputer\n",
    "\n",
    "\n",
    "# Import package for sentiment analysis\n",
    "import nltk\n",
    "from nltk.tokenize import word_tokenize\n",
    "from nltk.sentiment import SentimentIntensityAnalyzer\n",
    "from nltk.corpus import stopwords"
   ]
  },
  {
   "cell_type": "code",
   "execution_count": 2,
   "id": "8cb1594f",
   "metadata": {},
   "outputs": [
    {
     "name": "stderr",
     "output_type": "stream",
     "text": [
      "[nltk_data] Downloading package punkt to /home/ealopez/nltk_data...\n",
      "[nltk_data]   Package punkt is already up-to-date!\n",
      "[nltk_data] Downloading package stopwords to\n",
      "[nltk_data]     /home/ealopez/nltk_data...\n",
      "[nltk_data]   Package stopwords is already up-to-date!\n"
     ]
    },
    {
     "data": {
      "text/plain": [
       "True"
      ]
     },
     "execution_count": 2,
     "metadata": {},
     "output_type": "execute_result"
    }
   ],
   "source": [
    "# Download for sentiment analysis\n",
    "nltk.download('punkt')\n",
    "nltk.download('stopwords')"
   ]
  },
  {
   "cell_type": "code",
   "execution_count": 8,
   "id": "cd56946c",
   "metadata": {},
   "outputs": [
    {
     "name": "stderr",
     "output_type": "stream",
     "text": [
      "[nltk_data] Downloading package vader_lexicon to\n",
      "[nltk_data]     /home/ealopez/nltk_data...\n",
      "[nltk_data]   Package vader_lexicon is already up-to-date!\n"
     ]
    },
    {
     "data": {
      "text/plain": [
       "True"
      ]
     },
     "execution_count": 8,
     "metadata": {},
     "output_type": "execute_result"
    }
   ],
   "source": [
    "# Download the VADER lexicon\n",
    "nltk.download('vader_lexicon')"
   ]
  },
  {
   "cell_type": "code",
   "execution_count": null,
   "id": "2e1e5fd5",
   "metadata": {},
   "outputs": [],
   "source": [
    "# Import the data file\n",
    "df_habits = pd.read_csv('grocery_habits.csv')\n",
    "df_habits = df_habits.drop(columns = 'Timestamp')"
   ]
  },
  {
   "cell_type": "code",
   "execution_count": 5,
   "id": "fa79d717",
   "metadata": {},
   "outputs": [],
   "source": [
    "# Rename the columns\n",
    "df_habits = df_habits.rename(columns={\"Timestamp\": \"Time\"})\n",
    "df_habits = df_habits.rename(columns={\"Email Address\": \"Email\"})\n",
    "df_habits = df_habits.rename(columns={\"Are you comfortable with us reaching out for some quick followup questions? Say yes if you're awesome and epic.\": \"Followup\"})\n",
    "df_habits = df_habits.rename(columns={\"Who do you typically grocery shop groceries for?\" : \"Audience\"})\n",
    "df_habits = df_habits.rename(columns={\"How often do you go grocery shopping?\" : \"Frequency\"})\n",
    "df_habits = df_habits.rename(columns={\"Do you prefer to shop at a specific grocery store or multiple stores?\" : \"Number of Stores\"})\n",
    "df_habits = df_habits.rename(columns={\"What kind of grocery store do you usually shop at ?\" : \"Type of Store\"})\n",
    "df_habits = df_habits.rename(columns={\"Walk me through your grocery shopping process/describe your typical shopping experience (ex: what you buy, what aisles you visit, favorite aisles, time spent, etc).\" : \"Shopping Process\"})\n",
    "df_habits = df_habits.rename(columns={\"How do you know where to go first in a grocery store? \\n\\nFun fact: Ralph stores have a map and their app can lead you to the aisle your item is located. \" : \"Navigating In Store\"})\n",
    "df_habits = df_habits.rename(columns={\"Do you have a budget when going grocery shopping?\" : \"Budget\"})\n",
    "df_habits = df_habits.rename(columns={\"Do you usually create a shopping list before going to the grocery store?\" : \"List\"})\n",
    "df_habits = df_habits.rename(columns={\"If you selected digital list, what apps or tools do you use?\" : \"Digital List Tools\"})\n",
    "df_habits = df_habits.rename(columns={\"How often do you stick to your list versus making spontaneous purchases?\" : \"Stick to List Frequency\"})\n",
    "df_habits = df_habits.rename(columns={\"How often do you find yourself throwing away expired food items?\" : \"Expired Food Frequency\"})\n",
    "df_habits = df_habits.rename(columns={\"Why do you think you have this habit?\" : \"Why Expired\"})\n",
    "df_habits = df_habits.rename(columns={\"What do you do with an expired/almost expired item?\" : \"Use Expired\"})\n",
    "df_habits = df_habits.rename(columns={\"What do you most often find yourself throwing away? Please choose two max.\" : \"Common Expired\"})\n",
    "df_habits = df_habits.rename(columns={\"How familiar are you with sell by dates and do you know where to find them?\" : \"Find Sell By\"})\n",
    "df_habits = df_habits.rename(columns={\"Do you usually follow sell by dates?\" : \"Follow Sell By\"})\n",
    "df_habits = df_habits.rename(columns={\"What methods do you currently use to remember expiration dates on perishable items?\" : \"Track Expiration\"})\n",
    "df_habits = df_habits.rename(columns={\"What challenges or struggles do you currently face when it comes to managing and keeping track of expiration dates?\" : \"Challenges In Tracking\"})\n",
    "df_habits = df_habits.rename(columns={\"Do you believe that you tend to throw away expired food earlier or later than your peers?\" : \"Relative Amount Expired\"})\n",
    "df_habits = df_habits.rename(columns={\"Does most of your food waste come from prepared foods or from groceries themselves?\\n\\nFun fact: Per 2/4 rule by the FDA, if you put the leftovers in fridge within 2 hours it’s good for 4 days.\" : \"Prepared or Grocery Waste\"})\n",
    "df_habits = df_habits.rename(columns={\"If you could come up with a solution to these problems, what would you want?\" : \"Solution\"})\n",
    "df_habits = df_habits.rename(columns={\"Do you already use apps to track groceries' expiration dates?\" : \"App\"})"
   ]
  },
  {
   "cell_type": "markdown",
   "id": "085de41b",
   "metadata": {},
   "source": [
    "### Sentiment Analysis Setup"
   ]
  },
  {
   "cell_type": "code",
   "execution_count": 9,
   "id": "37522d82",
   "metadata": {},
   "outputs": [],
   "source": [
    "# TDIF for column 'Shopping Process'\n",
    "# Begin preprocessing: lowercasing and removing non-alphanumeric characters\n",
    "instores = df_habits['Shopping Process']\n",
    "instores = [re.sub(r'[^A-Za-z0-9]', ' ', process) for process in instores]\n",
    "instores = [process.lower() for process in instores]"
   ]
  },
  {
   "cell_type": "code",
   "execution_count": 10,
   "id": "ac399efd",
   "metadata": {},
   "outputs": [],
   "source": [
    "# Begin text analysis\n",
    "tfidf = TfidfVectorizer(analyzer = 'word', \n",
    "                        max_features = 2000,\n",
    "                        tokenizer = word_tokenize,\n",
    "                        stop_words = stopwords.words(\"english\"))"
   ]
  },
  {
   "cell_type": "code",
   "execution_count": 11,
   "id": "bc531604",
   "metadata": {},
   "outputs": [
    {
     "name": "stderr",
     "output_type": "stream",
     "text": [
      "/opt/conda/lib/python3.9/site-packages/sklearn/feature_extraction/text.py:388: UserWarning: Your stop_words may be inconsistent with your preprocessing. Tokenizing the stop words generated tokens [\"'d\", \"'ll\", \"'re\", \"'s\", \"'ve\", 'could', 'might', 'must', \"n't\", 'need', 'sha', 'wo', 'would'] not in stop_words.\n",
      "  warnings.warn('Your stop_words may be inconsistent with '\n"
     ]
    }
   ],
   "source": [
    "tfidf_instores_array = tfidf.fit_transform(instores).toarray()\n",
    "df_instores = pd.DataFrame(tfidf_instores_array)\n",
    "df_instores.columns = tfidf.get_feature_names()"
   ]
  },
  {
   "cell_type": "code",
   "execution_count": 12,
   "id": "585a9150",
   "metadata": {
    "scrolled": true
   },
   "outputs": [],
   "source": [
    "most_unique_instores = df_instores.idxmax(axis = 1)"
   ]
  },
  {
   "cell_type": "code",
   "execution_count": 13,
   "id": "a6dae72f",
   "metadata": {},
   "outputs": [],
   "source": [
    "df_instores = pd.DataFrame(np.sum(df_instores, axis = 0))\n",
    "df_instores = df_instores.loc['accomplish':]\n",
    "df_instores_vals = df_instores.loc[:,0]\n",
    "df_instores['tfidf'] = df_instores_vals\n",
    "df_instores = df_instores.sort_values(by = 'tfidf', ascending = False)"
   ]
  },
  {
   "cell_type": "code",
   "execution_count": 14,
   "id": "fcc408b0",
   "metadata": {},
   "outputs": [],
   "source": [
    "df_instores = df_instores.loc[:'frozen']\n",
    "df_instores = df_instores.transpose()"
   ]
  },
  {
   "cell_type": "code",
   "execution_count": 16,
   "id": "a708b59c",
   "metadata": {},
   "outputs": [],
   "source": [
    "# TDIF for column 'Navigating In Store'\n",
    "nav_store = df_habits['Navigating In Store']\n",
    "nav_store = [re.sub(r'[^A-Za-z0-9]', ' ', nav) for nav in nav_store]\n",
    "nav_store = [nav.lower() for nav in nav_store]"
   ]
  },
  {
   "cell_type": "code",
   "execution_count": 17,
   "id": "99089482",
   "metadata": {},
   "outputs": [],
   "source": [
    "tfidf_nav_store_array = tfidf.fit_transform(nav_store).toarray()\n",
    "df_nav_store = pd.DataFrame(tfidf_nav_store_array)\n",
    "df_nav_store.columns = tfidf.get_feature_names()"
   ]
  },
  {
   "cell_type": "code",
   "execution_count": 18,
   "id": "c20c8c0b",
   "metadata": {},
   "outputs": [],
   "source": [
    "most_unique_nav = df_nav_store.idxmax(axis = 1)"
   ]
  },
  {
   "cell_type": "code",
   "execution_count": 19,
   "id": "60802e5f",
   "metadata": {},
   "outputs": [],
   "source": [
    "df_nav_store = pd.DataFrame(np.sum(df_nav_store, axis = 0))\n",
    "df_nav_store = df_nav_store.loc['aisle':]\n",
    "df_nav_store_vals = df_nav_store.loc[:,0]\n",
    "df_nav_store['tfidf'] = df_nav_store_vals\n",
    "df_nav_store = df_nav_store.sort_values(by = 'tfidf', ascending = False)"
   ]
  },
  {
   "cell_type": "code",
   "execution_count": 20,
   "id": "7824dad8",
   "metadata": {},
   "outputs": [],
   "source": [
    "df_nav_store = df_nav_store.loc[:'specific']\n",
    "df_nav_store = df_nav_store.transpose()"
   ]
  },
  {
   "cell_type": "code",
   "execution_count": 22,
   "id": "1e15be9c",
   "metadata": {},
   "outputs": [],
   "source": [
    "# TDIF for column 'Challenges In Tracking'\n",
    "# Necessary because not all respondents provided an answer\n",
    "df_habits = df_habits.dropna(subset=['Challenges In Tracking'])\n",
    "\n",
    "tr_chall = df_habits['Challenges In Tracking']\n",
    "tr_chall = [re.sub(r'[^A-Za-z0-9]', ' ', chall) for chall in tr_chall]\n",
    "tr_chall = [chall.lower() for chall in tr_chall]"
   ]
  },
  {
   "cell_type": "code",
   "execution_count": 23,
   "id": "c2c7343b",
   "metadata": {},
   "outputs": [],
   "source": [
    "tfidf_tr_chall_array = tfidf.fit_transform(tr_chall).toarray()\n",
    "df_tr_chall = pd.DataFrame(tfidf_tr_chall_array)\n",
    "df_tr_chall.columns = tfidf.get_feature_names()"
   ]
  },
  {
   "cell_type": "code",
   "execution_count": 24,
   "id": "597e0eb6",
   "metadata": {},
   "outputs": [],
   "source": [
    "most_unique_chall = df_tr_chall.idxmax(axis = 1)"
   ]
  },
  {
   "cell_type": "code",
   "execution_count": 25,
   "id": "c9549bdd",
   "metadata": {},
   "outputs": [],
   "source": [
    "df_tr_chall = pd.DataFrame(np.sum(df_tr_chall, axis = 0))\n",
    "df_tr_chall = df_tr_chall.loc['aisle':]\n",
    "df_tr_chall_vals = df_tr_chall.loc[:,0]\n",
    "df_tr_chall['tfidf'] = df_tr_chall_vals\n",
    "df_tr_chall = df_tr_chall.sort_values(by = 'tfidf', ascending = False)"
   ]
  },
  {
   "cell_type": "code",
   "execution_count": 26,
   "id": "d9c51e02",
   "metadata": {},
   "outputs": [],
   "source": [
    "df_tr_chall = df_tr_chall.loc[:'check']\n",
    "df_tr_chall = df_tr_chall.transpose()"
   ]
  },
  {
   "cell_type": "code",
   "execution_count": 77,
   "id": "396f4ac9",
   "metadata": {},
   "outputs": [],
   "source": [
    "# TDIF for column 'Solution'\n",
    "solun = df_habits['Solution']\n",
    "solun = [re.sub(r'[^A-Za-z0-9]', ' ', sol) for sol in solun]\n",
    "solun = [sol.lower() for sol in solun]"
   ]
  },
  {
   "cell_type": "code",
   "execution_count": 78,
   "id": "8a5dab75",
   "metadata": {},
   "outputs": [],
   "source": [
    "tfidf_solun_array = tfidf.fit_transform(solun).toarray()\n",
    "df_solun = pd.DataFrame(tfidf_solun_array)\n",
    "df_solun.columns = tfidf.get_feature_names()"
   ]
  },
  {
   "cell_type": "code",
   "execution_count": 79,
   "id": "32d918d9",
   "metadata": {},
   "outputs": [],
   "source": [
    "most_unique_chall = df_solun.idxmax(axis = 1)"
   ]
  },
  {
   "cell_type": "code",
   "execution_count": 80,
   "id": "b1373ca5",
   "metadata": {},
   "outputs": [],
   "source": [
    "df_solun = pd.DataFrame(np.sum(df_solun, axis = 0))\n",
    "df_solun = df_solun.loc['able':]\n",
    "df_solun_vals = df_solun.loc[:,0]\n",
    "df_solun['tfidf'] = df_solun_vals\n",
    "df_solun = df_solun.sort_values(by = 'tfidf', ascending = False)"
   ]
  },
  {
   "cell_type": "code",
   "execution_count": 81,
   "id": "95b04e7d",
   "metadata": {},
   "outputs": [],
   "source": [
    "df_solun = df_solun.loc[:'produce']\n",
    "df_solun = df_solun.transpose()"
   ]
  },
  {
   "cell_type": "markdown",
   "id": "61c00556",
   "metadata": {},
   "source": [
    "**What were the top 20 most common words in responses to the following question:**\n",
    "\n",
    "***\"Walk me through your grocery shopping process/describe your typical shopping experience (ex: what you buy, what aisles you visit, favorite aisles, time spent, etc).\"***"
   ]
  },
  {
   "cell_type": "code",
   "execution_count": 15,
   "id": "fc3ff0a4",
   "metadata": {},
   "outputs": [
    {
     "data": {
      "text/plain": [
       "<AxesSubplot:ylabel='Count'>"
      ]
     },
     "execution_count": 15,
     "metadata": {},
     "output_type": "execute_result"
    },
    {
     "data": {
      "image/png": "[encoded data removed]",
      "text/plain": [
       "<Figure size 432x288 with 1 Axes>"
      ]
     },
     "metadata": {
      "needs_background": "light"
     },
     "output_type": "display_data"
    }
   ],
   "source": [
    "sns.histplot(data = df_instores)\n",
    "\n",
    "#the word with the highest value is \"go\" and so on"
   ]
  },
  {
   "cell_type": "markdown",
   "id": "59e74ca4",
   "metadata": {},
   "source": [
    "**What were the top 20 most common words in responses to the following question:**\n",
    "\n",
    "***\"How do you know where to go first in a grocery store?\"***"
   ]
  },
  {
   "cell_type": "code",
   "execution_count": 21,
   "id": "64c1553c",
   "metadata": {},
   "outputs": [
    {
     "data": {
      "text/plain": [
       "<AxesSubplot:ylabel='Count'>"
      ]
     },
     "execution_count": 21,
     "metadata": {},
     "output_type": "execute_result"
    },
    {
     "data": {
      "image/png": "[encoded data removed]",
      "text/plain": [
       "<Figure size 432x288 with 1 Axes>"
      ]
     },
     "metadata": {
      "needs_background": "light"
     },
     "output_type": "display_data"
    }
   ],
   "source": [
    "sns.histplot(data = df_nav_store)\n",
    "\n",
    "#the word with the highest value is \"start\" and so on"
   ]
  },
  {
   "cell_type": "markdown",
   "id": "2eaec84d",
   "metadata": {},
   "source": [
    "**What were the top 20 most common words in responses to the following question:**\n",
    "\n",
    "***\"What challenges or struggles do you currently face when it comes to managing and keeping track of expiration dates?\"***"
   ]
  },
  {
   "cell_type": "code",
   "execution_count": 27,
   "id": "3464e9a5",
   "metadata": {},
   "outputs": [
    {
     "data": {
      "text/plain": [
       "<AxesSubplot:ylabel='Count'>"
      ]
     },
     "execution_count": 27,
     "metadata": {},
     "output_type": "execute_result"
    },
    {
     "data": {
      "image/png": "[encoded data removed]",
      "text/plain": [
       "<Figure size 432x288 with 1 Axes>"
      ]
     },
     "metadata": {
      "needs_background": "light"
     },
     "output_type": "display_data"
    }
   ],
   "source": [
    "sns.histplot(data = df_tr_chall)\n",
    "\n",
    "#the word with the highest value is \"forget\" and so on"
   ]
  },
  {
   "cell_type": "markdown",
   "id": "c9be9c29",
   "metadata": {},
   "source": [
    "**What were the top 20 most common words in responses to the following question:**\n",
    "\n",
    "***\"If you could come up with a solution to these problems, what would you want?\"***"
   ]
  },
  {
   "cell_type": "code",
   "execution_count": 82,
   "id": "8242cf91",
   "metadata": {},
   "outputs": [
    {
     "data": {
      "text/plain": [
       "<AxesSubplot:ylabel='Count'>"
      ]
     },
     "execution_count": 82,
     "metadata": {},
     "output_type": "execute_result"
    },
    {
     "data": {
      "image/png": "[encoded data removed]",
      "text/plain": [
       "<Figure size 432x288 with 1 Axes>"
      ]
     },
     "metadata": {
      "needs_background": "light"
     },
     "output_type": "display_data"
    }
   ],
   "source": [
    "sns.histplot(data = df_solun)\n",
    "\n",
    "#the word with the highest value is \"app\" and so on"
   ]
  }
 ],
 "metadata": {
  "kernelspec": {
   "display_name": "Python 3 (ipykernel)",
   "language": "python",
   "name": "python3"
  },
  "language_info": {
   "codemirror_mode": {
    "name": "ipython",
    "version": 3
   },
   "file_extension": ".py",
   "mimetype": "text/x-python",
   "name": "python",
   "nbconvert_exporter": "python",
   "pygments_lexer": "ipython3",
   "version": "3.9.6"
  }
 },
 "nbformat": 4,
 "nbformat_minor": 5
}
