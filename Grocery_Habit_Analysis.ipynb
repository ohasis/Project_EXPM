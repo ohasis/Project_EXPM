{
 "cells": [
  {
   "cell_type": "code",
   "execution_count": 1,
   "id": "45a29e18",
   "metadata": {},
   "outputs": [],
   "source": [
    "# Import for data manipulation\n",
    "import pandas as pd \n",
    "import sklearn as sk\n",
    "import numpy as np\n",
    "import seaborn as sns\n",
    "import matplotlib.pyplot as plt\n",
    "import statsmodels.api as sm\n",
    "import ast\n",
    "\n",
    "from scipy.stats import f_oneway\n",
    "\n",
    "# import re for regular expression\n",
    "import re\n",
    "\n",
    "# scikit-learn imports\n",
    "from sklearn.feature_extraction.text import CountVectorizer, TfidfVectorizer\n",
    "from sklearn.impute import SimpleImputer\n",
    "\n",
    "\n",
    "# Import package for sentiment analysis\n",
    "import nltk\n",
    "from nltk.tokenize import word_tokenize\n",
    "from nltk.sentiment import SentimentIntensityAnalyzer\n",
    "from nltk.corpus import stopwords"
   ]
  },
  {
   "cell_type": "code",
   "execution_count": 2,
   "id": "8cb1594f",
   "metadata": {},
   "outputs": [
    {
     "name": "stderr",
     "output_type": "stream",
     "text": [
      "[nltk_data] Downloading package punkt to /home/ealopez/nltk_data...\n",
      "[nltk_data]   Package punkt is already up-to-date!\n",
      "[nltk_data] Downloading package stopwords to\n",
      "[nltk_data]     /home/ealopez/nltk_data...\n",
      "[nltk_data]   Package stopwords is already up-to-date!\n"
     ]
    },
    {
     "data": {
      "text/plain": [
       "True"
      ]
     },
     "execution_count": 2,
     "metadata": {},
     "output_type": "execute_result"
    }
   ],
   "source": [
    "# Download for sentiment analysis\n",
    "nltk.download('punkt')\n",
    "nltk.download('stopwords')"
   ]
  },
  {
   "cell_type": "code",
   "execution_count": 3,
   "id": "c3cba7f5",
   "metadata": {},
   "outputs": [],
   "source": [
    "#Data Cleaning"
   ]
  },
  {
   "cell_type": "code",
   "execution_count": 4,
   "id": "09337546",
   "metadata": {
    "scrolled": true
   },
   "outputs": [],
   "source": [
    "df_habits = pd.read_csv('grocery_habits.csv')\n",
    "df_habits = df_habits.drop(columns = 'Timestamp')"
   ]
  },
  {
   "cell_type": "code",
   "execution_count": 5,
   "id": "fa79d717",
   "metadata": {},
   "outputs": [],
   "source": [
    "df_habits = df_habits.rename(columns={\"Timestamp\": \"Time\"})\n",
    "df_habits = df_habits.rename(columns={\"Email Address\": \"Email\"})\n",
    "df_habits = df_habits.rename(columns={\"Are you comfortable with us reaching out for some quick followup questions? Say yes if you're awesome and epic.\": \"Followup\"})\n",
    "df_habits = df_habits.rename(columns={\"Who do you typically grocery shop groceries for?\" : \"Audience\"})\n",
    "df_habits = df_habits.rename(columns={\"How often do you go grocery shopping?\" : \"Frequency\"})\n",
    "df_habits = df_habits.rename(columns={\"Do you prefer to shop at a specific grocery store or multiple stores?\" : \"Number of Stores\"})\n",
    "df_habits = df_habits.rename(columns={\"What kind of grocery store do you usually shop at ?\" : \"Type of Store\"})\n",
    "df_habits = df_habits.rename(columns={\"Walk me through your grocery shopping process/describe your typical shopping experience (ex: what you buy, what aisles you visit, favorite aisles, time spent, etc).\" : \"Shopping Process\"})\n",
    "df_habits = df_habits.rename(columns={\"How do you know where to go first in a grocery store?\" : \"Navigating In Store\"})\n",
    "df_habits = df_habits.rename(columns={\"Do you have a budget when going grocery shopping?\" : \"Budget\"})\n",
    "df_habits = df_habits.rename(columns={\"Do you usually create a shopping list before going to the grocery store?\" : \"List\"})\n",
    "df_habits = df_habits.rename(columns={\"If you selected digital list, what apps or tools do you use?\" : \"Digital List Tools\"})\n",
    "df_habits = df_habits.rename(columns={\"How often do you stick to your list versus making spontaneous purchases?\" : \"Stick to List Frequency\"})\n",
    "df_habits = df_habits.rename(columns={\"How often do you find yourself throwing away expired food items?\" : \"Expired Food Frequency\"})\n",
    "df_habits = df_habits.rename(columns={\"Why do you think you have this habit?\" : \"Why Expired\"})\n",
    "df_habits = df_habits.rename(columns={\"What do you do with an expired/almost expired item?\" : \"Use Expired\"})\n",
    "df_habits = df_habits.rename(columns={\"What do you most often find yourself throwing away? Please choose two max.\" : \"Common Expired\"})\n",
    "df_habits = df_habits.rename(columns={\"How familiar are you with sell by dates and do you know where to find them?\" : \"Find Sell By\"})\n",
    "df_habits = df_habits.rename(columns={\"What methods do you currently use to remember expiration dates on perishable items?\" : \"Track Expiration\"})\n",
    "df_habits = df_habits.rename(columns={\"What challenges or struggles do you currently face when it comes to managing and keeping track of expiration dates?\" : \"Challenges in Tracking\"})\n",
    "df_habits = df_habits.rename(columns={\"Do you believe that you tend to throw away expired food earlier or later than your peers?\" : \"Relative Amount Expired\"})\n",
    "df_habits = df_habits.rename(columns={\"Does most of your food waste come from prepared foods or from groceries themselves?\\n\\nFun fact: Per 2/4 rule by the FDA, if you put the leftovers in fridge within 2 hours it’s good for 4 days.\" : \"Prepared or Grocery Waste\"})\n",
    "df_habits = df_habits.rename(columns={\"If you could come up with a solution to these problems, what would you want?\" : \"Solution\"})\n",
    "df_habits = df_habits.rename(columns={\"Do you already use apps to track groceries' expiration dates?\" : \"App\"})"
   ]
  },
  {
   "cell_type": "code",
   "execution_count": 6,
   "id": "3e2e9548",
   "metadata": {},
   "outputs": [
    {
     "data": {
      "text/plain": [
       "Index(['Email', 'Followup', 'Audience', 'Frequency', 'Number of Stores',\n",
       "       'Type of Store', 'Shopping Process',\n",
       "       'How do you know where to go first in a grocery store? \\n\\nFun fact: Ralph stores have a map and their app can lead you to the aisle your item is located. ',\n",
       "       'Budget', 'List', 'Digital List Tools', 'Stick to List Frequency',\n",
       "       'Expired Food Frequency', 'Why Expired', 'Use Expired',\n",
       "       'Common Expired', 'Find Sell By',\n",
       "       'Do you usually follow sell by dates?', 'Track Expiration',\n",
       "       'Challenges in Tracking', 'Relative Amount Expired',\n",
       "       'Prepared or Grocery Waste', 'Solution', 'App'],\n",
       "      dtype='object')"
      ]
     },
     "execution_count": 6,
     "metadata": {},
     "output_type": "execute_result"
    }
   ],
   "source": [
    "df_habits.columns"
   ]
  },
  {
   "cell_type": "code",
   "execution_count": 7,
   "id": "085de41b",
   "metadata": {},
   "outputs": [],
   "source": [
    "#Sentiment Analysis"
   ]
  },
  {
   "cell_type": "code",
   "execution_count": 8,
   "id": "cd56946c",
   "metadata": {},
   "outputs": [
    {
     "name": "stderr",
     "output_type": "stream",
     "text": [
      "[nltk_data] Downloading package vader_lexicon to\n",
      "[nltk_data]     /home/ealopez/nltk_data...\n",
      "[nltk_data]   Package vader_lexicon is already up-to-date!\n"
     ]
    },
    {
     "data": {
      "text/plain": [
       "True"
      ]
     },
     "execution_count": 8,
     "metadata": {},
     "output_type": "execute_result"
    }
   ],
   "source": [
    "# Download the VADER lexicon\n",
    "nltk.download('vader_lexicon')"
   ]
  },
  {
   "cell_type": "code",
   "execution_count": 9,
   "id": "37522d82",
   "metadata": {},
   "outputs": [],
   "source": [
    "# TDIF for column 'Shopping Process'\n",
    "# Begin preprocessing: lowercasing and removing non-alphanumeric characters\n",
    "instores = df_habits['Shopping Process']\n",
    "instores = [re.sub(r'[^A-Za-z0-9]', ' ', process) for process in instores]\n",
    "instores = [process.lower() for process in instores]"
   ]
  },
  {
   "cell_type": "code",
   "execution_count": 10,
   "id": "ac399efd",
   "metadata": {},
   "outputs": [],
   "source": [
    "# Begin text analysis\n",
    "tfidf = TfidfVectorizer(analyzer = 'word', \n",
    "                        max_features = 2000,\n",
    "                        tokenizer = word_tokenize,\n",
    "                        stop_words = stopwords.words(\"english\"))"
   ]
  },
  {
   "cell_type": "code",
   "execution_count": 11,
   "id": "bc531604",
   "metadata": {},
   "outputs": [
    {
     "name": "stderr",
     "output_type": "stream",
     "text": [
      "/opt/conda/lib/python3.9/site-packages/sklearn/feature_extraction/text.py:388: UserWarning: Your stop_words may be inconsistent with your preprocessing. Tokenizing the stop words generated tokens [\"'d\", \"'ll\", \"'re\", \"'s\", \"'ve\", 'could', 'might', 'must', \"n't\", 'need', 'sha', 'wo', 'would'] not in stop_words.\n",
      "  warnings.warn('Your stop_words may be inconsistent with '\n"
     ]
    }
   ],
   "source": [
    "tfidf_instores_array = tfidf.fit_transform(instores).toarray()\n",
    "df_instores = pd.DataFrame(tfidf_instores_array)\n",
    "df_instores.columns = tfidf.get_feature_names()"
   ]
  },
  {
   "cell_type": "code",
   "execution_count": 12,
   "id": "585a9150",
   "metadata": {
    "scrolled": true
   },
   "outputs": [],
   "source": [
    "most_unique_instores = df_instores.idxmax(axis = 1)"
   ]
  },
  {
   "cell_type": "code",
   "execution_count": 13,
   "id": "d1acf0e1",
   "metadata": {},
   "outputs": [],
   "source": [
    "df_instores = pd.DataFrame(np.sum(df_instores, axis = 0))\n",
    "df_instores = df_instores.loc['accomplish':]\n",
    "df_instores_vals = df_instores.loc[:,0]\n",
    "df_instores['tfidf'] = df_instores_vals\n",
    "df_instores = df_instores.sort_values(by = 'tfidf', ascending = False)"
   ]
  },
  {
   "cell_type": "code",
   "execution_count": 14,
   "id": "8fde5800",
   "metadata": {},
   "outputs": [],
   "source": [
    "df_instores = df_instores.loc[:'frozen']\n",
    "df_instores = df_instores.transpose()"
   ]
  },
  {
   "cell_type": "code",
   "execution_count": 16,
   "id": "4b597d97",
   "metadata": {},
   "outputs": [
    {
     "data": {
      "text/plain": [
       "<AxesSubplot:ylabel='Count'>"
      ]
     },
     "execution_count": 16,
     "metadata": {},
     "output_type": "execute_result"
    },
    {
     "data": {
      "image/png": "[encoded data removed]",
      "text/plain": [
       "<Figure size 432x288 with 1 Axes>"
      ]
     },
     "metadata": {
      "needs_background": "light"
     },
     "output_type": "display_data"
    }
   ],
   "source": [
    "sns.histplot(data = df_instores)\n",
    "#the word with the highest value is \"go\" and so on"
   ]
  }
 ],
 "metadata": {
  "kernelspec": {
   "display_name": "Python 3 (ipykernel)",
   "language": "python",
   "name": "python3"
  },
  "language_info": {
   "codemirror_mode": {
    "name": "ipython",
    "version": 3
   },
   "file_extension": ".py",
   "mimetype": "text/x-python",
   "name": "python",
   "nbconvert_exporter": "python",
   "pygments_lexer": "ipython3",
   "version": "3.9.5"
  }
 },
 "nbformat": 4,
 "nbformat_minor": 5
}
